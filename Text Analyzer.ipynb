{
 "cells": [
  {
   "cell_type": "code",
   "execution_count": 3,
   "id": "403f7043-f15a-4c4b-bed2-d2b03d42e51b",
   "metadata": {},
   "outputs": [
    {
     "name": "stdin",
     "output_type": "stream",
     "text": [
      "Enter a paragraph of text:  efhufugwegkhegnfhugbuengheqknjhuelfnlnfnjbkdnbnnnnnnnnnhn\n"
     ]
    },
    {
     "name": "stdout",
     "output_type": "stream",
     "text": [
      "\n",
      "Text Analysis:\n",
      "Total words: 1\n",
      "Unique words: 1\n",
      "Total characters (excluding spaces): 57\n",
      "\n",
      "Word Frequency:\n",
      "efhufugwegkhegnfhugbuengheqknjhuelfnlnfnjbkdnbnnnnnnnnnhn: 1\n"
     ]
    }
   ],
   "source": [
    "import string\n",
    "\n",
    "def text_analyzer(paragraph):\n",
    "    translator = str.maketrans('', '', string.punctuation)\n",
    "    clean_paragraph = paragraph.translate(translator)\n",
    "    \n",
    "    words = clean_paragraph.lower().split()\n",
    "    \n",
    "    total_words = len(words)\n",
    "    \n",
    "    unique_words = set(words)\n",
    "    \n",
    "    word_frequency = {}\n",
    "    for word in words:\n",
    "        word_frequency[word] = word_frequency.get(word, 0) + 1\n",
    "    \n",
    "    char_count = sum(len(word) for word in words)\n",
    "    \n",
    "    print(\"\\nText Analysis:\")\n",
    "    print(f\"Total words: {total_words}\")\n",
    "    print(f\"Unique words: {len(unique_words)}\")\n",
    "    print(f\"Total characters (excluding spaces): {char_count}\")\n",
    "    \n",
    "    print(\"\\nWord Frequency:\")\n",
    "    for word, count in word_frequency.items():\n",
    "        print(f\"{word}: {count}\")\n",
    "\n",
    "paragraph = input(\"Enter a paragraph of text: \")\n",
    "\n",
    "text_analyzer(paragraph)\n"
   ]
  },
  {
   "cell_type": "code",
   "execution_count": null,
   "id": "3b31f180-dab1-404c-b9cc-b602423e5ec0",
   "metadata": {},
   "outputs": [],
   "source": []
  }
 ],
 "metadata": {
  "kernelspec": {
   "display_name": "Python 3 (ipykernel)",
   "language": "python",
   "name": "python3"
  },
  "language_info": {
   "codemirror_mode": {
    "name": "ipython",
    "version": 3
   },
   "file_extension": ".py",
   "mimetype": "text/x-python",
   "name": "python",
   "nbconvert_exporter": "python",
   "pygments_lexer": "ipython3",
   "version": "3.12.4"
  }
 },
 "nbformat": 4,
 "nbformat_minor": 5
}
